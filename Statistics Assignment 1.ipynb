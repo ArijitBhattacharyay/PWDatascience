{
 "cells": [
  {
   "cell_type": "markdown",
   "id": "b57279d8",
   "metadata": {},
   "source": [
    "1. Statistics is the study of collecting and analyzing numerical data."
   ]
  },
  {
   "cell_type": "markdown",
   "id": "8f178fc9",
   "metadata": {},
   "source": [
    "2. There are 2 types of statistics, Descriptive statistics and Inferential statistics, example of \n",
    "Inferential statistics is taking data of a small sample of voters and predicting the behavior of voting for \n",
    "the entire population, and example of Descriptive statistics is studying the median salary of a \n",
    "batch of students.\n"
   ]
  },
  {
   "cell_type": "markdown",
   "id": "2e9e617d",
   "metadata": {},
   "source": [
    "3. Data are of two types Qualitative data which is subdivided to Nominal (Unranked) data, eg: Gender, \n",
    "Ordinal Data(ranked data) eg: Customer Feedback and Quantitative data which is subdivided to Discrete data \n",
    "eg: No. od banka/c of a person,and Continuous eg: Height."
   ]
  },
  {
   "cell_type": "markdown",
   "id": "e081e439",
   "metadata": {},
   "source": [
    "4.  I . Qualitative Ordinal Data\n",
    "\tII . Qualitative Nominal Data\n",
    "\tIII. Quantitative Continuous Data\n",
    "\tIV. Quantitative Discrete Data\n"
   ]
  },
  {
   "cell_type": "markdown",
   "id": "eb16bc0e",
   "metadata": {},
   "source": [
    "5. The Levels of measurements are as follows: \n",
    "Nominal Level:\n",
    "Nominal data represents categories or labels with no inherent order or ranking. It only indicates differences between categories. Examples include gender, ethnicity, or types of fruits.\n",
    "Example Variable: Eye Color (Categories: Blue, Brown, Green)\n",
    "\n",
    "Ordinal Level:\n",
    "Ordinal data has categories with a meaningful order or ranking, but the intervals between them are not consistent or measurable. It indicates the relative position of elements but doesn't quantify the difference between them.\n",
    "Example Variable: Education Level (Categories: High School Diploma, Associate's Degree, Bachelor's Degree, Master's Degree, Doctorate)\n",
    "\n",
    "Interval Level:\n",
    "Interval data has ordered categories with consistent intervals between them. It doesn't have a true zero point, meaning that a value of zero does not imply the absence of the quantity being measured.\n",
    "Example Variable: Temperature in Celsius or Fahrenheit (0°C or 0°F does not represent the absence of temperature)\n",
    "\n",
    "Ratio Level:\n",
    "Ratio data has ordered categories with consistent intervals between them and a true zero point, indicating the absence of the measured quantity. Ratios of values are meaningful, and operations like multiplication and division are valid.\n",
    "Example Variable: Height in centimeters (0 cm represents the absence of height)\n"
   ]
  },
  {
   "cell_type": "markdown",
   "id": "7d589bbc",
   "metadata": {},
   "source": [
    "6. The level of measurement is crucial when analyzing data because it determines the types of statistical analyses and operations that can be appropriately applied to the data. Different levels of measurement have specific characteristics and limitations, and using an inappropriate statistical method can lead to inaccurate or misleading conclusions. Example, Consider a dataset that includes information about the cities' temperatures (measured in Celsius) and their average rainfall (measured in millimeters). Now, imagine mistakenly treating rainfall as if it were measured on an interval scale when it is actually on a ratio scale. This could lead to incorrect conclusions and misinterpretations. For instance, if we calculate the mean rainfall and report it as 20 mm, we might incorrectly assume that the absence of rainfall (0 mm) means no rainfall, which is not true since rainfall has a true zero point.\n"
   ]
  },
  {
   "cell_type": "markdown",
   "id": "dca54cdb",
   "metadata": {},
   "source": [
    "7. Nominal Data is basically unranked data eg: Gender, while ordinal data is ranked data eg: Grades"
   ]
  },
  {
   "cell_type": "markdown",
   "id": "abbfa6ba",
   "metadata": {},
   "source": [
    "8. To display data in terms of range we can use Box-Plot.\n"
   ]
  },
  {
   "cell_type": "markdown",
   "id": "12de3613",
   "metadata": {},
   "source": [
    "9: Descriptive statistics involve methods for summarizing and organizing data to provide a clear and meaningful description of its main features. These statistics help in simplifying large sets of data and making them more understandable. eg: A dataset of exam scores for a class of students. Descriptive statistics would involve calculating the mean (average) score, the median (middle value), and the standard deviation (measure of variability) to provide a concise summary of how students performed on the exam. Descriptive statistics are used to present and summarize the main features of a dataset. They are beneficial for understanding the central tendencies, variability, and distribution of the data.         \n",
    "Inferential statistics involve making inferences or predictions about a population based on a sample of data taken from that population. These statistics help researchers draw conclusions beyond the immediate dataset and assess the likelihood of those conclusions being accurate. Common techniques in inferential statistics include hypothesis testing, confidence intervals, and regression analysis. eg: Using the same dataset of exam scores, inferential statistics might involve conducting a hypothesis test to determine if there is a significant difference in the mean scores between two groups of students, such as those who received additional tutoring and those who did not. Inferential statistics are used when researchers want to generalize findings from a sample to a larger population. They help make predictions about relationships, test hypotheses, and draw conclusions based on statistical evidence."
   ]
  },
  {
   "cell_type": "markdown",
   "id": "bbead5c3",
   "metadata": {},
   "source": [
    "10. Measures of Central Tendency:\n",
    "Mean:\n",
    "Use: Represents the central value around which the data points cluster. It is sensitive to extreme values and is widely used in various fields.\n",
    "Median:\n",
    "Use: Provides the middle point of a dataset, making it less sensitive to extreme values than the mean. Useful for skewed distributions.\n",
    "Mode:\n",
    "Use: Identifies the most common values in a dataset. Appropriate for categorical or discrete data.\n",
    "\n",
    "Measures of Variability:\n",
    "Range:\n",
    "Use: Gives a simple measure of the spread of data. However, it is sensitive to extreme values.\n",
    "Variance:\n",
    "Use: Quantifies the overall variability in a dataset. It is widely used but influenced by outliers.\n",
    "Standard Deviation:\n",
    "Use: Represents the average deviation from the mean. Standard deviation is commonly used as it shares the same unit as the original data.\n",
    "Interquartile Range (IQR):\n",
    "Use: Measures the spread of the central portion of the data, making it less sensitive to extreme values than the range."
   ]
  },
  {
   "cell_type": "code",
   "execution_count": null,
   "id": "a5601f8b",
   "metadata": {},
   "outputs": [],
   "source": []
  }
 ],
 "metadata": {
  "kernelspec": {
   "display_name": "Python 3 (ipykernel)",
   "language": "python",
   "name": "python3"
  },
  "language_info": {
   "codemirror_mode": {
    "name": "ipython",
    "version": 3
   },
   "file_extension": ".py",
   "mimetype": "text/x-python",
   "name": "python",
   "nbconvert_exporter": "python",
   "pygments_lexer": "ipython3",
   "version": "3.11.4"
  }
 },
 "nbformat": 4,
 "nbformat_minor": 5
}
