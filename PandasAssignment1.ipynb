{
 "cells": [
  {
   "cell_type": "markdown",
   "id": "ba33c16f-d401-43f0-bc00-951f9f6a7927",
   "metadata": {},
   "source": [
    "Answer 1"
   ]
  },
  {
   "cell_type": "code",
   "execution_count": 1,
   "id": "721e7787-a36e-4cd5-b327-0d0626021688",
   "metadata": {},
   "outputs": [],
   "source": [
    "import pandas as pd"
   ]
  },
  {
   "cell_type": "code",
   "execution_count": 2,
   "id": "d97aa220-fb51-4bb5-97d1-7009865ecef2",
   "metadata": {},
   "outputs": [],
   "source": [
    "data=[4,8,15,16,23,42]"
   ]
  },
  {
   "cell_type": "code",
   "execution_count": 3,
   "id": "e06b25ce-2437-4457-aafb-67e78f9bf0f0",
   "metadata": {},
   "outputs": [],
   "source": [
    "df=pd.Series(data)"
   ]
  },
  {
   "cell_type": "code",
   "execution_count": 4,
   "id": "2858855e-76c2-41c8-a2b3-05b305b417cb",
   "metadata": {},
   "outputs": [
    {
     "name": "stdout",
     "output_type": "stream",
     "text": [
      "0     4\n",
      "1     8\n",
      "2    15\n",
      "3    16\n",
      "4    23\n",
      "5    42\n",
      "dtype: int64\n"
     ]
    }
   ],
   "source": [
    "print(df)"
   ]
  },
  {
   "cell_type": "markdown",
   "id": "76331ae1-1683-449f-a6f6-92167eb4c02b",
   "metadata": {},
   "source": [
    "Answer 2"
   ]
  },
  {
   "cell_type": "code",
   "execution_count": 5,
   "id": "b962928a-c644-4827-aea3-b9100f30ffec",
   "metadata": {},
   "outputs": [],
   "source": [
    "import pandas as pd"
   ]
  },
  {
   "cell_type": "code",
   "execution_count": 7,
   "id": "f7ef5dbf-e578-43d9-9964-cc47c49e89de",
   "metadata": {},
   "outputs": [],
   "source": [
    "list=[]"
   ]
  },
  {
   "cell_type": "code",
   "execution_count": 10,
   "id": "09cfffca-cca7-42da-9c20-be67682e616f",
   "metadata": {},
   "outputs": [
    {
     "name": "stdin",
     "output_type": "stream",
     "text": [
      " 1\n",
      " 3\n",
      " 4\n",
      " 5\n",
      " 7\n",
      " 8\n",
      " 9\n",
      " 2\n",
      " 45\n",
      " 89\n"
     ]
    }
   ],
   "source": [
    "for i in range(10):\n",
    "    d=int(input())\n",
    "    list.append(d)"
   ]
  },
  {
   "cell_type": "code",
   "execution_count": 11,
   "id": "d5486792-2b55-4558-8fcf-caaccdd91c8e",
   "metadata": {},
   "outputs": [],
   "source": [
    "df=pd.Series(list)"
   ]
  },
  {
   "cell_type": "code",
   "execution_count": 12,
   "id": "aabadef1-d54d-4843-997e-9fb264c083da",
   "metadata": {},
   "outputs": [
    {
     "name": "stdout",
     "output_type": "stream",
     "text": [
      "0     1\n",
      "1     3\n",
      "2     4\n",
      "3     5\n",
      "4     7\n",
      "5     8\n",
      "6     9\n",
      "7     2\n",
      "8    45\n",
      "9    89\n",
      "dtype: int64\n"
     ]
    }
   ],
   "source": [
    "print(df)"
   ]
  },
  {
   "cell_type": "markdown",
   "id": "e0f242f7-d2e0-4b61-a6ba-2fda2089e13d",
   "metadata": {},
   "source": [
    "Answer 3"
   ]
  },
  {
   "cell_type": "code",
   "execution_count": 13,
   "id": "d3d39865-e759-4615-b2fe-df8c4076f809",
   "metadata": {},
   "outputs": [],
   "source": [
    "import pandas as pd"
   ]
  },
  {
   "cell_type": "code",
   "execution_count": 14,
   "id": "1968c5c8-05fb-4b80-975e-0832fff8bc80",
   "metadata": {},
   "outputs": [],
   "source": [
    "data={ 'Name':['Alice','Bob','Claire'],'Age':[25,30,27],'Gender':['Female','Male','Female']}"
   ]
  },
  {
   "cell_type": "code",
   "execution_count": 17,
   "id": "3a40e81e-2b82-462a-9270-0017a6171a4c",
   "metadata": {},
   "outputs": [],
   "source": [
    "df=pd.DataFrame(data)"
   ]
  },
  {
   "cell_type": "code",
   "execution_count": 20,
   "id": "f0e75231-2849-440e-aa20-f9d8a8b394da",
   "metadata": {},
   "outputs": [],
   "source": [
    "df.to_csv(\"Table1.csv\")"
   ]
  },
  {
   "cell_type": "code",
   "execution_count": 19,
   "id": "753efcc2-9497-4f48-ab1d-5eed7d84e5af",
   "metadata": {},
   "outputs": [
    {
     "name": "stdout",
     "output_type": "stream",
     "text": [
      "     Name  Age  Gender\n",
      "0   Alice   25  Female\n",
      "1     Bob   30    Male\n",
      "2  Claire   27  Female\n"
     ]
    }
   ],
   "source": [
    "print(df)"
   ]
  },
  {
   "cell_type": "markdown",
   "id": "b2fc757c-124f-446c-a6f9-9ce191781066",
   "metadata": {},
   "source": [
    "Answer 4"
   ]
  },
  {
   "cell_type": "markdown",
   "id": "e16dc90e-3628-40ca-a82d-9aada82fcefd",
   "metadata": {},
   "source": [
    "In Pandas, a DataFrame is a two-dimensional labeled data structure with columns that can be of different types (e.g., numeric, string, boolean). On the other hand, a Series is a one-dimensional labeled array capable of holding any data type. It is like a single column or row in a DataFrame."
   ]
  },
  {
   "cell_type": "markdown",
   "id": "b32bcd5d-b587-4b8f-a2a3-59d83b38a25d",
   "metadata": {},
   "source": [
    "For example the table with Name, Age, Gender is a Dataframe but when we speak only of the column Name it is a series."
   ]
  },
  {
   "cell_type": "markdown",
   "id": "5404938f-cddf-47d9-a01e-6fe5eb431add",
   "metadata": {},
   "source": [
    "Answer 5"
   ]
  },
  {
   "cell_type": "markdown",
   "id": "2a7a7be1-b171-4982-8653-8010162b778a",
   "metadata": {},
   "source": [
    "Pandas provides a variety of functions to manipulate and analyze data in a DataFrame. Some common functions include:\n",
    "head(), tail(), iloc(), info(), drop(), columns, are some of them."
   ]
  },
  {
   "cell_type": "code",
   "execution_count": 21,
   "id": "fe694ba7-199a-4c28-81d3-90388175793b",
   "metadata": {},
   "outputs": [],
   "source": [
    "import pandas as pd"
   ]
  },
  {
   "cell_type": "code",
   "execution_count": 23,
   "id": "5972e20d-a519-4212-9dbe-bc68887787ae",
   "metadata": {},
   "outputs": [],
   "source": [
    "df= pd.read_csv(\"Table1.csv\")"
   ]
  },
  {
   "cell_type": "code",
   "execution_count": 24,
   "id": "31eba1ee-8cd0-40c3-8a62-68282cb6ba45",
   "metadata": {},
   "outputs": [
    {
     "data": {
      "text/html": [
       "<div>\n",
       "<style scoped>\n",
       "    .dataframe tbody tr th:only-of-type {\n",
       "        vertical-align: middle;\n",
       "    }\n",
       "\n",
       "    .dataframe tbody tr th {\n",
       "        vertical-align: top;\n",
       "    }\n",
       "\n",
       "    .dataframe thead th {\n",
       "        text-align: right;\n",
       "    }\n",
       "</style>\n",
       "<table border=\"1\" class=\"dataframe\">\n",
       "  <thead>\n",
       "    <tr style=\"text-align: right;\">\n",
       "      <th></th>\n",
       "      <th>Unnamed: 0</th>\n",
       "      <th>Name</th>\n",
       "      <th>Age</th>\n",
       "      <th>Gender</th>\n",
       "    </tr>\n",
       "  </thead>\n",
       "  <tbody>\n",
       "    <tr>\n",
       "      <th>0</th>\n",
       "      <td>0</td>\n",
       "      <td>Alice</td>\n",
       "      <td>25</td>\n",
       "      <td>Female</td>\n",
       "    </tr>\n",
       "    <tr>\n",
       "      <th>1</th>\n",
       "      <td>1</td>\n",
       "      <td>Bob</td>\n",
       "      <td>30</td>\n",
       "      <td>Male</td>\n",
       "    </tr>\n",
       "    <tr>\n",
       "      <th>2</th>\n",
       "      <td>2</td>\n",
       "      <td>Claire</td>\n",
       "      <td>27</td>\n",
       "      <td>Female</td>\n",
       "    </tr>\n",
       "  </tbody>\n",
       "</table>\n",
       "</div>"
      ],
      "text/plain": [
       "   Unnamed: 0    Name  Age  Gender\n",
       "0           0   Alice   25  Female\n",
       "1           1     Bob   30    Male\n",
       "2           2  Claire   27  Female"
      ]
     },
     "execution_count": 24,
     "metadata": {},
     "output_type": "execute_result"
    }
   ],
   "source": [
    "df.head()"
   ]
  },
  {
   "cell_type": "code",
   "execution_count": 26,
   "id": "93cb2a52-9cf7-4535-aa6d-4b16e05f1ac0",
   "metadata": {},
   "outputs": [
    {
     "data": {
      "text/html": [
       "<div>\n",
       "<style scoped>\n",
       "    .dataframe tbody tr th:only-of-type {\n",
       "        vertical-align: middle;\n",
       "    }\n",
       "\n",
       "    .dataframe tbody tr th {\n",
       "        vertical-align: top;\n",
       "    }\n",
       "\n",
       "    .dataframe thead th {\n",
       "        text-align: right;\n",
       "    }\n",
       "</style>\n",
       "<table border=\"1\" class=\"dataframe\">\n",
       "  <thead>\n",
       "    <tr style=\"text-align: right;\">\n",
       "      <th></th>\n",
       "      <th>Unnamed: 0</th>\n",
       "      <th>Name</th>\n",
       "      <th>Age</th>\n",
       "      <th>Gender</th>\n",
       "    </tr>\n",
       "  </thead>\n",
       "  <tbody>\n",
       "    <tr>\n",
       "      <th>1</th>\n",
       "      <td>1</td>\n",
       "      <td>Bob</td>\n",
       "      <td>30</td>\n",
       "      <td>Male</td>\n",
       "    </tr>\n",
       "    <tr>\n",
       "      <th>2</th>\n",
       "      <td>2</td>\n",
       "      <td>Claire</td>\n",
       "      <td>27</td>\n",
       "      <td>Female</td>\n",
       "    </tr>\n",
       "  </tbody>\n",
       "</table>\n",
       "</div>"
      ],
      "text/plain": [
       "   Unnamed: 0    Name  Age  Gender\n",
       "1           1     Bob   30    Male\n",
       "2           2  Claire   27  Female"
      ]
     },
     "execution_count": 26,
     "metadata": {},
     "output_type": "execute_result"
    }
   ],
   "source": [
    "df.tail(2)"
   ]
  },
  {
   "cell_type": "markdown",
   "id": "00357328-1961-4ecf-9dbd-ad1b7d1a5871",
   "metadata": {},
   "source": [
    "Answer 6"
   ]
  },
  {
   "cell_type": "markdown",
   "id": "a810a836-6582-4da0-b142-1dc0aedfda82",
   "metadata": {},
   "source": [
    "Both Series and DataFrame are mutable while the panel (which was a 3 dimentional array) is immutable."
   ]
  },
  {
   "cell_type": "markdown",
   "id": "b47925a1-873b-4ead-abb4-fa6d73f7e776",
   "metadata": {},
   "source": [
    "Answer 7"
   ]
  },
  {
   "cell_type": "markdown",
   "id": "b3a1cba8-f3d8-4716-9de9-c7b6ba50c7f9",
   "metadata": {},
   "source": [
    "We can create a DataFrame using multiple Series by passing the Series as a dictionary to the pd.DataFrame constructor. Each Series becomes a column in the resulting DataFrame, and the keys of the dictionary become the column names. "
   ]
  },
  {
   "cell_type": "code",
   "execution_count": 12,
   "id": "ce0f1993-3972-4ed2-ae91-24d4e6921fb2",
   "metadata": {},
   "outputs": [],
   "source": [
    "import pandas as pd"
   ]
  },
  {
   "cell_type": "code",
   "execution_count": 13,
   "id": "06d71618-45c6-4f9f-830a-b3e0f42e0f2b",
   "metadata": {},
   "outputs": [],
   "source": [
    "series1= pd.Series([1,2,3], name='Numbers')"
   ]
  },
  {
   "cell_type": "code",
   "execution_count": 14,
   "id": "aa815c7d-a34e-4e73-a1dd-15e44f00335c",
   "metadata": {},
   "outputs": [],
   "source": [
    "series2= pd.Series(['A','B','C'], name='Alphabets')"
   ]
  },
  {
   "cell_type": "code",
   "execution_count": 15,
   "id": "b05f4058-2d8f-45f5-8e21-c5552a01c10e",
   "metadata": {},
   "outputs": [],
   "source": [
    "series3= pd.Series(['!','@','#'], name='Special Characters')"
   ]
  },
  {
   "cell_type": "code",
   "execution_count": 16,
   "id": "60c42739-dce6-43e2-a96d-eb8e28e76c4f",
   "metadata": {},
   "outputs": [],
   "source": [
    "df=pd.DataFrame({'Numbers':series1,'Alphabets':series2,'Special Characters':series3})"
   ]
  },
  {
   "cell_type": "code",
   "execution_count": 17,
   "id": "8cb634a7-2139-4144-ac0d-9f1d9ee852e6",
   "metadata": {},
   "outputs": [
    {
     "name": "stdout",
     "output_type": "stream",
     "text": [
      "   Numbers Alphabets Special Characters\n",
      "0        1         A                  !\n",
      "1        2         B                  @\n",
      "2        3         C                  #\n"
     ]
    }
   ],
   "source": [
    "print (df)"
   ]
  },
  {
   "cell_type": "code",
   "execution_count": null,
   "id": "83e8291a-15aa-47d0-9a22-70ddefee9997",
   "metadata": {},
   "outputs": [],
   "source": []
  },
  {
   "cell_type": "code",
   "execution_count": null,
   "id": "97f3014e-b9d4-4ba9-935a-767925ea0067",
   "metadata": {},
   "outputs": [],
   "source": []
  }
 ],
 "metadata": {
  "kernelspec": {
   "display_name": "Python 3 (ipykernel)",
   "language": "python",
   "name": "python3"
  },
  "language_info": {
   "codemirror_mode": {
    "name": "ipython",
    "version": 3
   },
   "file_extension": ".py",
   "mimetype": "text/x-python",
   "name": "python",
   "nbconvert_exporter": "python",
   "pygments_lexer": "ipython3",
   "version": "3.10.8"
  }
 },
 "nbformat": 4,
 "nbformat_minor": 5
}
